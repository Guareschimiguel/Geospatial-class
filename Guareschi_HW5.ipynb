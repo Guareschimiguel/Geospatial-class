{
 "cells": [
  {
   "cell_type": "markdown",
   "id": "aaef5db5-f719-4419-a48b-ca78e60e60f9",
   "metadata": {},
   "source": [
    "5.1 Solution"
   ]
  },
  {
   "cell_type": "code",
   "execution_count": 2,
   "id": "bc3701d2-8079-484b-8413-b6e9420ae45b",
   "metadata": {},
   "outputs": [],
   "source": [
    "import os\n",
    "import numpy as np\n",
    "import matplotlib.pyplot as plt\n",
    "import seaborn as sns\n",
    "import geopandas as gpd"
   ]
  },
  {
   "cell_type": "code",
   "execution_count": 3,
   "id": "76b5c141-af04-4387-bf9f-b6be74b24a1f",
   "metadata": {},
   "outputs": [
    {
     "name": "stderr",
     "output_type": "stream",
     "text": [
      "ERROR 1: PROJ: proj_create_from_database: Open of /opt/tljh/user/share/proj failed\n"
     ]
    },
    {
     "data": {
      "text/html": [
       "<div>\n",
       "<style scoped>\n",
       "    .dataframe tbody tr th:only-of-type {\n",
       "        vertical-align: middle;\n",
       "    }\n",
       "\n",
       "    .dataframe tbody tr th {\n",
       "        vertical-align: top;\n",
       "    }\n",
       "\n",
       "    .dataframe thead th {\n",
       "        text-align: right;\n",
       "    }\n",
       "</style>\n",
       "<table border=\"1\" class=\"dataframe\">\n",
       "  <thead>\n",
       "    <tr style=\"text-align: right;\">\n",
       "      <th></th>\n",
       "      <th>OBJECTID</th>\n",
       "      <th>zip</th>\n",
       "      <th>jenicategory</th>\n",
       "      <th>jenipctl</th>\n",
       "      <th>jenirank</th>\n",
       "      <th>riskcategory</th>\n",
       "      <th>riskpctl</th>\n",
       "      <th>driverscategory</th>\n",
       "      <th>driverspctl</th>\n",
       "      <th>systemcategory</th>\n",
       "      <th>systempctl</th>\n",
       "      <th>neighborhood</th>\n",
       "      <th>sup_dist</th>\n",
       "      <th>spa</th>\n",
       "      <th>csa</th>\n",
       "      <th>SHAPE_Length</th>\n",
       "      <th>SHAPE_Area</th>\n",
       "      <th>geometry</th>\n",
       "    </tr>\n",
       "  </thead>\n",
       "  <tbody>\n",
       "    <tr>\n",
       "      <th>0</th>\n",
       "      <td>1</td>\n",
       "      <td>91108</td>\n",
       "      <td>Lowest</td>\n",
       "      <td>0.0</td>\n",
       "      <td>277</td>\n",
       "      <td>Lowest</td>\n",
       "      <td>0.4</td>\n",
       "      <td>Lowest</td>\n",
       "      <td>0.7</td>\n",
       "      <td>Lowest</td>\n",
       "      <td>3.3</td>\n",
       "      <td>San Marino</td>\n",
       "      <td>District 5</td>\n",
       "      <td>SPA 3 - San Gabriel</td>\n",
       "      <td>City of San Marino</td>\n",
       "      <td>0.177419</td>\n",
       "      <td>0.000962</td>\n",
       "      <td>MULTIPOLYGON (((-118.10864 34.13733, -118.1084...</td>\n",
       "    </tr>\n",
       "    <tr>\n",
       "      <th>1</th>\n",
       "      <td>2</td>\n",
       "      <td>90631</td>\n",
       "      <td>Lowest</td>\n",
       "      <td>0.4</td>\n",
       "      <td>276</td>\n",
       "      <td>Lowest</td>\n",
       "      <td>2.9</td>\n",
       "      <td>Lowest</td>\n",
       "      <td>1.8</td>\n",
       "      <td>Lowest</td>\n",
       "      <td>0.7</td>\n",
       "      <td>La Habra Heights</td>\n",
       "      <td>District 4</td>\n",
       "      <td>SPA 7 - East</td>\n",
       "      <td>City of La Habra Heights</td>\n",
       "      <td>0.234952</td>\n",
       "      <td>0.001614</td>\n",
       "      <td>MULTIPOLYGON (((-117.94274 33.97488, -117.9427...</td>\n",
       "    </tr>\n",
       "    <tr>\n",
       "      <th>2</th>\n",
       "      <td>3</td>\n",
       "      <td>90274</td>\n",
       "      <td>Lowest</td>\n",
       "      <td>0.7</td>\n",
       "      <td>275</td>\n",
       "      <td>Lowest</td>\n",
       "      <td>3.6</td>\n",
       "      <td>Lowest</td>\n",
       "      <td>0.0</td>\n",
       "      <td>Lowest</td>\n",
       "      <td>7.2</td>\n",
       "      <td>Palos Verdes Estates</td>\n",
       "      <td>District 4</td>\n",
       "      <td>SPA 8 - South Bay</td>\n",
       "      <td>City of Rancho Palos Verdes</td>\n",
       "      <td>0.563332</td>\n",
       "      <td>0.003029</td>\n",
       "      <td>MULTIPOLYGON (((-118.39057 33.80426, -118.3905...</td>\n",
       "    </tr>\n",
       "    <tr>\n",
       "      <th>3</th>\n",
       "      <td>4</td>\n",
       "      <td>91361</td>\n",
       "      <td>Lowest</td>\n",
       "      <td>1.1</td>\n",
       "      <td>274</td>\n",
       "      <td>Lowest</td>\n",
       "      <td>12.2</td>\n",
       "      <td>Lowest</td>\n",
       "      <td>0.4</td>\n",
       "      <td>Lowest</td>\n",
       "      <td>5.1</td>\n",
       "      <td>Westlake Village</td>\n",
       "      <td>District 3</td>\n",
       "      <td>SPA 2 - San Fernando</td>\n",
       "      <td>City of Westlake Village</td>\n",
       "      <td>0.197748</td>\n",
       "      <td>0.001336</td>\n",
       "      <td>MULTIPOLYGON (((-118.80028 34.14798, -118.7995...</td>\n",
       "    </tr>\n",
       "    <tr>\n",
       "      <th>4</th>\n",
       "      <td>5</td>\n",
       "      <td>90275</td>\n",
       "      <td>Lowest</td>\n",
       "      <td>1.4</td>\n",
       "      <td>273</td>\n",
       "      <td>Lowest</td>\n",
       "      <td>6.8</td>\n",
       "      <td>Lowest</td>\n",
       "      <td>3.6</td>\n",
       "      <td>Lowest</td>\n",
       "      <td>6.2</td>\n",
       "      <td>Rancho Palos Verdes</td>\n",
       "      <td>District 4</td>\n",
       "      <td>SPA 8 - South Bay</td>\n",
       "      <td>City of Rancho Palos Verdes</td>\n",
       "      <td>0.624171</td>\n",
       "      <td>0.003365</td>\n",
       "      <td>MULTIPOLYGON (((-118.39313 33.73857, -118.3931...</td>\n",
       "    </tr>\n",
       "  </tbody>\n",
       "</table>\n",
       "</div>"
      ],
      "text/plain": [
       "   OBJECTID    zip jenicategory  jenipctl  jenirank riskcategory  riskpctl  \\\n",
       "0         1  91108       Lowest       0.0       277       Lowest       0.4   \n",
       "1         2  90631       Lowest       0.4       276       Lowest       2.9   \n",
       "2         3  90274       Lowest       0.7       275       Lowest       3.6   \n",
       "3         4  91361       Lowest       1.1       274       Lowest      12.2   \n",
       "4         5  90275       Lowest       1.4       273       Lowest       6.8   \n",
       "\n",
       "  driverscategory  driverspctl systemcategory  systempctl  \\\n",
       "0          Lowest          0.7         Lowest         3.3   \n",
       "1          Lowest          1.8         Lowest         0.7   \n",
       "2          Lowest          0.0         Lowest         7.2   \n",
       "3          Lowest          0.4         Lowest         5.1   \n",
       "4          Lowest          3.6         Lowest         6.2   \n",
       "\n",
       "           neighborhood    sup_dist                   spa  \\\n",
       "0            San Marino  District 5   SPA 3 - San Gabriel   \n",
       "1      La Habra Heights  District 4          SPA 7 - East   \n",
       "2  Palos Verdes Estates  District 4     SPA 8 - South Bay   \n",
       "3      Westlake Village  District 3  SPA 2 - San Fernando   \n",
       "4   Rancho Palos Verdes  District 4     SPA 8 - South Bay   \n",
       "\n",
       "                           csa  SHAPE_Length  SHAPE_Area  \\\n",
       "0           City of San Marino      0.177419    0.000962   \n",
       "1     City of La Habra Heights      0.234952    0.001614   \n",
       "2  City of Rancho Palos Verdes      0.563332    0.003029   \n",
       "3     City of Westlake Village      0.197748    0.001336   \n",
       "4  City of Rancho Palos Verdes      0.624171    0.003365   \n",
       "\n",
       "                                            geometry  \n",
       "0  MULTIPOLYGON (((-118.10864 34.13733, -118.1084...  \n",
       "1  MULTIPOLYGON (((-117.94274 33.97488, -117.9427...  \n",
       "2  MULTIPOLYGON (((-118.39057 33.80426, -118.3905...  \n",
       "3  MULTIPOLYGON (((-118.80028 34.14798, -118.7995...  \n",
       "4  MULTIPOLYGON (((-118.39313 33.73857, -118.3931...  "
      ]
     },
     "execution_count": 3,
     "metadata": {},
     "output_type": "execute_result"
    }
   ],
   "source": [
    "jeni = (\"data/Justice_Equity_Need_Index.geojson\")\n",
    "data=gpd.read_file(jeni)\n",
    "\n",
    "data.head()"
   ]
  },
  {
   "cell_type": "code",
   "execution_count": 4,
   "id": "c4e5671c-9203-431d-99be-403d92ad0a4b",
   "metadata": {},
   "outputs": [
    {
     "name": "stderr",
     "output_type": "stream",
     "text": [
      "/opt/tljh/user/lib/python3.9/site-packages/geopandas/geodataframe.py:1676: FutureWarning: The default value of numeric_only in DataFrameGroupBy.mean is deprecated. In a future version, numeric_only will default to False. Either specify numeric_only or select only columns which should be valid for the function.\n",
      "  aggregated_data = data.groupby(**groupby_kwargs).agg(aggfunc)\n"
     ]
    },
    {
     "data": {
      "text/html": [
       "<div>\n",
       "<style scoped>\n",
       "    .dataframe tbody tr th:only-of-type {\n",
       "        vertical-align: middle;\n",
       "    }\n",
       "\n",
       "    .dataframe tbody tr th {\n",
       "        vertical-align: top;\n",
       "    }\n",
       "\n",
       "    .dataframe thead th {\n",
       "        text-align: right;\n",
       "    }\n",
       "</style>\n",
       "<table border=\"1\" class=\"dataframe\">\n",
       "  <thead>\n",
       "    <tr style=\"text-align: right;\">\n",
       "      <th></th>\n",
       "      <th>geometry</th>\n",
       "      <th>OBJECTID</th>\n",
       "      <th>jenipctl</th>\n",
       "      <th>jenirank</th>\n",
       "      <th>riskpctl</th>\n",
       "      <th>driverspctl</th>\n",
       "      <th>systempctl</th>\n",
       "      <th>SHAPE_Length</th>\n",
       "      <th>SHAPE_Area</th>\n",
       "    </tr>\n",
       "    <tr>\n",
       "      <th>sup_dist</th>\n",
       "      <th></th>\n",
       "      <th></th>\n",
       "      <th></th>\n",
       "      <th></th>\n",
       "      <th></th>\n",
       "      <th></th>\n",
       "      <th></th>\n",
       "      <th></th>\n",
       "      <th></th>\n",
       "    </tr>\n",
       "  </thead>\n",
       "  <tbody>\n",
       "    <tr>\n",
       "      <th>District 1</th>\n",
       "      <td>MULTIPOLYGON (((-118.18311 33.99633, -118.1833...</td>\n",
       "      <td>170.288889</td>\n",
       "      <td>60.502222</td>\n",
       "      <td>110.022222</td>\n",
       "      <td>51.293333</td>\n",
       "      <td>66.386667</td>\n",
       "      <td>59.186667</td>\n",
       "      <td>0.225481</td>\n",
       "      <td>0.001370</td>\n",
       "    </tr>\n",
       "    <tr>\n",
       "      <th>District 2</th>\n",
       "      <td>POLYGON ((-118.37791 33.85345, -118.37791 33.8...</td>\n",
       "      <td>183.510204</td>\n",
       "      <td>65.157143</td>\n",
       "      <td>97.163265</td>\n",
       "      <td>56.816326</td>\n",
       "      <td>66.685714</td>\n",
       "      <td>64.944898</td>\n",
       "      <td>0.172835</td>\n",
       "      <td>0.000868</td>\n",
       "    </tr>\n",
       "    <tr>\n",
       "      <th>District 3</th>\n",
       "      <td>POLYGON ((-118.52451 34.03052, -118.52502 34.0...</td>\n",
       "      <td>108.966667</td>\n",
       "      <td>38.586667</td>\n",
       "      <td>170.483333</td>\n",
       "      <td>52.178333</td>\n",
       "      <td>36.520000</td>\n",
       "      <td>33.781667</td>\n",
       "      <td>0.216787</td>\n",
       "      <td>0.001795</td>\n",
       "    </tr>\n",
       "    <tr>\n",
       "      <th>District 4</th>\n",
       "      <td>MULTIPOLYGON (((-118.17124 33.76274, -118.1725...</td>\n",
       "      <td>144.785714</td>\n",
       "      <td>51.292857</td>\n",
       "      <td>135.428571</td>\n",
       "      <td>47.075000</td>\n",
       "      <td>52.373214</td>\n",
       "      <td>54.114286</td>\n",
       "      <td>0.233778</td>\n",
       "      <td>0.001278</td>\n",
       "    </tr>\n",
       "    <tr>\n",
       "      <th>District 5</th>\n",
       "      <td>POLYGON ((-118.31103 34.10656, -118.31103 34.1...</td>\n",
       "      <td>117.085714</td>\n",
       "      <td>41.464286</td>\n",
       "      <td>162.571429</td>\n",
       "      <td>47.417143</td>\n",
       "      <td>37.964286</td>\n",
       "      <td>43.655714</td>\n",
       "      <td>0.524372</td>\n",
       "      <td>0.009303</td>\n",
       "    </tr>\n",
       "  </tbody>\n",
       "</table>\n",
       "</div>"
      ],
      "text/plain": [
       "                                                     geometry    OBJECTID  \\\n",
       "sup_dist                                                                    \n",
       "District 1  MULTIPOLYGON (((-118.18311 33.99633, -118.1833...  170.288889   \n",
       "District 2  POLYGON ((-118.37791 33.85345, -118.37791 33.8...  183.510204   \n",
       "District 3  POLYGON ((-118.52451 34.03052, -118.52502 34.0...  108.966667   \n",
       "District 4  MULTIPOLYGON (((-118.17124 33.76274, -118.1725...  144.785714   \n",
       "District 5  POLYGON ((-118.31103 34.10656, -118.31103 34.1...  117.085714   \n",
       "\n",
       "             jenipctl    jenirank   riskpctl  driverspctl  systempctl  \\\n",
       "sup_dist                                                                \n",
       "District 1  60.502222  110.022222  51.293333    66.386667   59.186667   \n",
       "District 2  65.157143   97.163265  56.816326    66.685714   64.944898   \n",
       "District 3  38.586667  170.483333  52.178333    36.520000   33.781667   \n",
       "District 4  51.292857  135.428571  47.075000    52.373214   54.114286   \n",
       "District 5  41.464286  162.571429  47.417143    37.964286   43.655714   \n",
       "\n",
       "            SHAPE_Length  SHAPE_Area  \n",
       "sup_dist                              \n",
       "District 1      0.225481    0.001370  \n",
       "District 2      0.172835    0.000868  \n",
       "District 3      0.216787    0.001795  \n",
       "District 4      0.233778    0.001278  \n",
       "District 5      0.524372    0.009303  "
      ]
     },
     "execution_count": 4,
     "metadata": {},
     "output_type": "execute_result"
    }
   ],
   "source": [
    "data_dis= data.dissolve(by='sup_dist', aggfunc='mean')\n",
    "\n",
    "data_dis.head()\n"
   ]
  },
  {
   "cell_type": "code",
   "execution_count": 5,
   "id": "d7a04962-6888-4bfa-a3ab-9af37150fd59",
   "metadata": {},
   "outputs": [
    {
     "ename": "AttributeError",
     "evalue": "'NoneType' object has no attribute 'set_bbox_to_anchor'",
     "output_type": "error",
     "traceback": [
      "\u001b[0;31m---------------------------------------------------------------------------\u001b[0m",
      "\u001b[0;31mAttributeError\u001b[0m                            Traceback (most recent call last)",
      "Cell \u001b[0;32mIn[5], line 13\u001b[0m\n\u001b[1;32m     10\u001b[0m leg\u001b[38;5;241m.\u001b[39mset_bbox_to_anchor((\u001b[38;5;241m1.5\u001b[39m,\u001b[38;5;241m1\u001b[39m))\n\u001b[1;32m     12\u001b[0m leg \u001b[38;5;241m=\u001b[39m ax2\u001b[38;5;241m.\u001b[39mget_legend()\n\u001b[0;32m---> 13\u001b[0m \u001b[43mleg\u001b[49m\u001b[38;5;241;43m.\u001b[39;49m\u001b[43mset_bbox_to_anchor\u001b[49m((\u001b[38;5;241m1.5\u001b[39m,\u001b[38;5;241m1\u001b[39m))\n\u001b[1;32m     14\u001b[0m ax1\u001b[38;5;241m.\u001b[39mset_axis_off()\n\u001b[1;32m     15\u001b[0m ax2\u001b[38;5;241m.\u001b[39mset_axis_off()\n",
      "\u001b[0;31mAttributeError\u001b[0m: 'NoneType' object has no attribute 'set_bbox_to_anchor'"
     ]
    },
    {
     "data": {
      "image/png": "[encoded data removed]",
      "text/plain": [
       "<Figure size 1000x1000 with 2 Axes>"
      ]
     },
     "metadata": {},
     "output_type": "display_data"
    }
   ],
   "source": [
    "fig, (ax1, ax2) = plt.subplots(2, 1, figsize=(10, 10))\n",
    "\n",
    "data_dis.plot(column='jenipctl',\n",
    "                 legend=True,\n",
    "                 scheme=\"quantiles\",\n",
    "                 ax=ax1)\n",
    "\n",
    "plt.suptitle('Census Data - districts', fontsize=16)\n",
    "leg = ax1.get_legend()\n",
    "leg.set_bbox_to_anchor((1.5,1))\n",
    "\n",
    "leg = ax2.get_legend()\n",
    "leg.set_bbox_to_anchor((1.5,1))\n",
    "ax1.set_axis_off()\n",
    "ax2.set_axis_off()\n",
    "\n",
    "plt.axis('equal')\n",
    "plt.show()"
   ]
  },
  {
   "cell_type": "code",
   "execution_count": null,
   "id": "0c076db4-d10c-4189-bc49-1d926b1de735",
   "metadata": {},
   "outputs": [],
   "source": []
  },
  {
   "cell_type": "markdown",
   "id": "28856636-24e3-4c88-a3a2-f3f08f16025c",
   "metadata": {},
   "source": [
    "5.2 Solution"
   ]
  },
  {
   "cell_type": "code",
   "execution_count": 3,
   "id": "0165b3e3-3ba3-46b6-b293-2636e51053e6",
   "metadata": {},
   "outputs": [],
   "source": [
    "import os\n",
    "import numpy as np\n",
    "import matplotlib.pyplot as plt\n",
    "import matplotlib.lines as mlines\n",
    "from matplotlib.colors import ListedColormap\n",
    "import geopandas as gpd\n",
    "\n",
    "# Load the box module from shapely to create box objects\n",
    "from shapely.geometry import box\n",
    "import seaborn as sns\n",
    "\n",
    "# Ignore warning about missing/empty geometries\n",
    "import warnings\n",
    "warnings.filterwarnings('ignore', 'GeoSeries.notna', UserWarning)"
   ]
  },
  {
   "cell_type": "code",
   "execution_count": 4,
   "id": "ab1efaa6-9dc6-4be9-a9b1-965c9401a8c8",
   "metadata": {},
   "outputs": [
    {
     "name": "stderr",
     "output_type": "stream",
     "text": [
      "ERROR 1: PROJ: proj_create_from_database: Open of /opt/tljh/user/share/proj failed\n"
     ]
    }
   ],
   "source": [
    "jeni = (\"data/Justice_Equity_Need_Index.geojson\")\n",
    "data=gpd.read_file(jeni)\n",
    "\n",
    "boundary_longbeach = (\"data/LB_City_Boundary.geojson\")\n",
    "data_boundary=gpd.read_file(boundary_longbeach)\n",
    "\n",
    "neighborhoods = (\"data/LB_Neighborhoods.geojson\")\n",
    "data_neighbor=gpd.read_file(neighborhoods)"
   ]
  },
  {
   "cell_type": "code",
   "execution_count": 5,
   "id": "61b342fb-7b00-4ead-ba13-7630a14b0eb1",
   "metadata": {},
   "outputs": [
    {
     "name": "stdout",
     "output_type": "stream",
     "text": [
      "epsg:4326\n",
      "epsg:4326\n",
      "epsg:4326\n"
     ]
    }
   ],
   "source": [
    "print(data.crs)\n",
    "print(data_boundary.crs)\n",
    "print(data_neighbor.crs)\n",
    "\n",
    "#always check crs of each dataset to make sure they are the same. "
   ]
  },
  {
   "cell_type": "code",
   "execution_count": 7,
   "id": "38aef903-8122-4682-8eed-b370f87fc17f",
   "metadata": {},
   "outputs": [
    {
     "name": "stderr",
     "output_type": "stream",
     "text": [
      "/opt/tljh/user/lib/python3.9/site-packages/geopandas/tools/clip.py:67: FutureWarning: In a future version, `df.iloc[:, i] = newvals` will attempt to set the values inplace instead of always setting a new array. To retain the old behavior, use either `df[df.columns[i]] = newvals` or, if columns are non-unique, `df.isetitem(i, newvals)`\n",
      "  clipped.loc[\n"
     ]
    }
   ],
   "source": [
    "clip_boundary = gpd.clip(data, data_boundary)"
   ]
  },
  {
   "cell_type": "code",
   "execution_count": 8,
   "id": "cf70e7d0-a36a-4c69-ae1e-860c170deae2",
   "metadata": {},
   "outputs": [
    {
     "name": "stderr",
     "output_type": "stream",
     "text": [
      "/opt/tljh/user/lib/python3.9/site-packages/IPython/core/interactiveshell.py:3382: FutureWarning: The `op` parameter is deprecated and will be removed in a future release. Please use the `predicate` parameter instead.\n",
      "  if await self.run_code(code, result, async_=asy):\n"
     ]
    }
   ],
   "source": [
    "joined_data = gpd.sjoin(clip_boundary, \n",
    "                         data_neighbor, \n",
    "                         how=\"inner\", \n",
    "                         op='intersects')"
   ]
  },
  {
   "cell_type": "code",
   "execution_count": 12,
   "id": "5820c6b4-5c4c-4980-8b0e-e2d7445023bf",
   "metadata": {},
   "outputs": [
    {
     "data": {
      "text/plain": [
       "<AxesSubplot:>"
      ]
     },
     "execution_count": 12,
     "metadata": {},
     "output_type": "execute_result"
    },
    {
     "data": {
      "image/png": "[encoded data removed]",
      "text/plain": [
       "<Figure size 1200x800 with 2 Axes>"
      ]
     },
     "metadata": {},
     "output_type": "display_data"
    }
   ],
   "source": [
    "fig, ax = plt.subplots(figsize=(12, 8))\n",
    "\n",
    "joined_data.plot(alpha=1,\n",
    "                    facecolor=\"none\",\n",
    "                    edgecolor=\"black\",\n",
    "                    zorder=10,\n",
    "                    ax=ax)\n",
    "\n",
    "joined_data.plot(column='jenipctl',\n",
    "                  ax=ax,\n",
    "                  legend=True)\n",
    "\n"
   ]
  },
  {
   "cell_type": "code",
   "execution_count": null,
   "id": "08ca4609-6ee9-47c9-ab35-cd02e90bfcd1",
   "metadata": {},
   "outputs": [],
   "source": []
  },
  {
   "cell_type": "markdown",
   "id": "14314922-b08f-4b9b-8a2e-93ab26a8a187",
   "metadata": {},
   "source": [
    "5.3 Solution"
   ]
  },
  {
   "cell_type": "code",
   "execution_count": 28,
   "id": "cdbc3e21-a084-477a-a20d-e3ba56e32ad1",
   "metadata": {},
   "outputs": [],
   "source": []
  },
  {
   "cell_type": "code",
   "execution_count": 29,
   "id": "f4521b0c-36b0-4c65-97d4-34e57b895445",
   "metadata": {},
   "outputs": [
    {
     "data": {
      "text/html": [
       "<div>\n",
       "<style scoped>\n",
       "    .dataframe tbody tr th:only-of-type {\n",
       "        vertical-align: middle;\n",
       "    }\n",
       "\n",
       "    .dataframe tbody tr th {\n",
       "        vertical-align: top;\n",
       "    }\n",
       "\n",
       "    .dataframe thead th {\n",
       "        text-align: right;\n",
       "    }\n",
       "</style>\n",
       "<table border=\"1\" class=\"dataframe\">\n",
       "  <thead>\n",
       "    <tr style=\"text-align: right;\">\n",
       "      <th></th>\n",
       "      <th>zip</th>\n",
       "      <th>csa</th>\n",
       "    </tr>\n",
       "  </thead>\n",
       "  <tbody>\n",
       "    <tr>\n",
       "      <th>0</th>\n",
       "      <td>91108</td>\n",
       "      <td>City of San Marino</td>\n",
       "    </tr>\n",
       "    <tr>\n",
       "      <th>1</th>\n",
       "      <td>90631</td>\n",
       "      <td>City of La Habra Heights</td>\n",
       "    </tr>\n",
       "    <tr>\n",
       "      <th>2</th>\n",
       "      <td>90274</td>\n",
       "      <td>City of Rancho Palos Verdes</td>\n",
       "    </tr>\n",
       "    <tr>\n",
       "      <th>3</th>\n",
       "      <td>91361</td>\n",
       "      <td>City of Westlake Village</td>\n",
       "    </tr>\n",
       "    <tr>\n",
       "      <th>4</th>\n",
       "      <td>90275</td>\n",
       "      <td>City of Rancho Palos Verdes</td>\n",
       "    </tr>\n",
       "  </tbody>\n",
       "</table>\n",
       "</div>"
      ],
      "text/plain": [
       "     zip                          csa\n",
       "0  91108           City of San Marino\n",
       "1  90631     City of La Habra Heights\n",
       "2  90274  City of Rancho Palos Verdes\n",
       "3  91361     City of Westlake Village\n",
       "4  90275  City of Rancho Palos Verdes"
      ]
     },
     "execution_count": 29,
     "metadata": {},
     "output_type": "execute_result"
    }
   ],
   "source": [
    "jeni = (\"data/Justice_Equity_Need_Index.geojson\")\n",
    "data=gpd.read_file(jeni)\n",
    "\n",
    "data_new = data[['zip', 'csa']]\n",
    "\n",
    "data_new.head()"
   ]
  },
  {
   "cell_type": "code",
   "execution_count": 45,
   "id": "7891b69e-56e1-4562-b878-01c173336ce8",
   "metadata": {},
   "outputs": [],
   "source": [
    "from shapely.geometry import Point, LineString, Polygon\n",
    "\n",
    "# Create Point geometric object(s) with coordinates\n",
    "pointlmu = Point(33.9710, -118.4170)\n",
    "\n",
    "\n",
    "pointlmu_re = gpd.GeoSeries(pointlmu, crs=CRS('epsg:4326')).to_crs('epsg:3857')"
   ]
  },
  {
   "cell_type": "code",
   "execution_count": 55,
   "id": "5614a15c-6f0d-4b05-9e7d-7c884d1d11a9",
   "metadata": {},
   "outputs": [
    {
     "name": "stdout",
     "output_type": "stream",
     "text": [
      "0      POINT (-118.11364 34.12237)\n",
      "1      POINT (-117.95078 33.95981)\n",
      "2      POINT (-118.36846 33.77734)\n",
      "3      POINT (-118.83252 34.13044)\n",
      "4      POINT (-118.36413 33.75576)\n",
      "                  ...             \n",
      "276    POINT (-118.28745 34.00308)\n",
      "277    POINT (-118.27400 33.92033)\n",
      "278    POINT (-118.24959 33.92567)\n",
      "279    POINT (-118.25179 34.04302)\n",
      "280    POINT (-118.23915 34.02903)\n",
      "Length: 281, dtype: geometry\n"
     ]
    },
    {
     "name": "stderr",
     "output_type": "stream",
     "text": [
      "/tmp/ipykernel_116811/1664758237.py:1: UserWarning: Geometry is in a geographic CRS. Results from 'centroid' are likely incorrect. Use 'GeoSeries.to_crs()' to re-project geometries to a projected CRS before this operation.\n",
      "\n",
      "  centroid=data.centroid\n"
     ]
    }
   ],
   "source": [
    "centroid=data.centroid\n",
    "\n",
    "print(centroid)\n",
    " #I received a warning. Should I reproject?"
   ]
  },
  {
   "cell_type": "code",
   "execution_count": 56,
   "id": "e87ccbde-92bc-421a-be41-aff75a73595b",
   "metadata": {},
   "outputs": [],
   "source": [
    "def calculate_distance(row, dest_geom, src_col='geometry', target_col='distance'):\n",
    "     # Calculate the distances\n",
    "    dist = row[src_col].distance(dest_geom)\n",
    "\n",
    "    # Convert into kilometers\n",
    "    dist_km = dist / 1000\n",
    "\n",
    "    # Assign the distance to the original data\n",
    "    row[target_col] = dist_km\n",
    "    return row"
   ]
  },
  {
   "cell_type": "code",
   "execution_count": 57,
   "id": "123a4ec3-7e45-4907-a77a-87cf95b84b21",
   "metadata": {},
   "outputs": [
    {
     "ename": "NameError",
     "evalue": "name 'row' is not defined",
     "output_type": "error",
     "traceback": [
      "\u001b[0;31m---------------------------------------------------------------------------\u001b[0m",
      "\u001b[0;31mNameError\u001b[0m                                 Traceback (most recent call last)",
      "Cell \u001b[0;32mIn[57], line 1\u001b[0m\n\u001b[0;32m----> 1\u001b[0m \u001b[38;5;28mprint\u001b[39m(\u001b[43mrow\u001b[49m)\n",
      "\u001b[0;31mNameError\u001b[0m: name 'row' is not defined"
     ]
    }
   ],
   "source": []
  },
  {
   "cell_type": "code",
   "execution_count": null,
   "id": "a95466a4-7c20-4f17-bc13-ea924f05b459",
   "metadata": {},
   "outputs": [],
   "source": []
  }
 ],
 "metadata": {
  "kernelspec": {
   "display_name": "Python 3 (ipykernel)",
   "language": "python",
   "name": "python3"
  },
  "language_info": {
   "codemirror_mode": {
    "name": "ipython",
    "version": 3
   },
   "file_extension": ".py",
   "mimetype": "text/x-python",
   "name": "python",
   "nbconvert_exporter": "python",
   "pygments_lexer": "ipython3",
   "version": "3.9.15"
  }
 },
 "nbformat": 4,
 "nbformat_minor": 5
}
