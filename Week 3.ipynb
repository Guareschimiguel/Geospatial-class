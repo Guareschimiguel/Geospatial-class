{
 "cells": [
  {
   "cell_type": "markdown",
   "id": "1e4658b0-9c12-4e42-b392-30f6821c6afc",
   "metadata": {},
   "source": [
    "Week 3 \n",
    "\n",
    "2.5 Solution"
   ]
  },
  {
   "cell_type": "code",
   "execution_count": 13,
   "id": "9010738d-d9c0-4722-9fee-caa88c376a6e",
   "metadata": {},
   "outputs": [
    {
     "name": "stdout",
     "output_type": "stream",
     "text": [
      "15\n",
      "59\n",
      "16\n",
      "0\n"
     ]
    }
   ],
   "source": [
    "temperatures = [-5.4, 1.0, -1.3, -4.8, 3.9, 0.1, -4.4, 4.0, -2.2, -3.9, 4.4,\n",
    "                -2.5, -4.6, 5.1, 2.1, -2.4, 1.9, -3.3, -4.8, 1.0, -0.8, -2.8,\n",
    "                -0.1, -4.7, -5.6, 2.6, -2.7, -4.6, 3.4, -0.4, -0.9, 3.1, 2.4,\n",
    "                1.6, 4.2, 3.5, 2.6, 3.1, 2.2, 1.8, 3.3, 1.6, 1.5, 4.7, 4.0,\n",
    "                3.6, 4.9, 4.8, 5.3, 5.6, 4.1, 3.7, 7.6, 6.9, 5.1, 6.4, 3.8,\n",
    "                4.0, 8.6, 4.1, 1.4, 8.9, 3.0, 1.6, 8.5, 4.7, 6.6, 8.1, 4.5,\n",
    "                4.8, 11.3, 4.7, 5.2, 11.5, 6.2, 2.9, 4.3, 2.8, 2.8, 6.3, 2.6,\n",
    "                -0.0, 7.3, 3.4, 4.7, 9.3, 6.4, 5.4, 7.6, 5.2]\n",
    "cold = []\n",
    "slippery = []\n",
    "comfortable = []\n",
    "warm = []\n",
    "\n",
    "for temp in temperatures:\n",
    "    if temp < -2:\n",
    "        cold.append(temp)\n",
    "    elif temp >= -2 and temp <2:\n",
    "        slippery.append(temp)\n",
    "    elif temp >= 2 and temp <15:\n",
    "        comfortable.append(temp)\n",
    "    else:\n",
    "        warm.append(temp)\n",
    "        \n",
    "print(len(cold))\n",
    "print(len(comfortable))\n",
    "print(len(slippery))\n",
    "print(len(warm))\n"
   ]
  },
  {
   "cell_type": "markdown",
   "id": "dfe4d358-b527-4a4a-a761-87c7dc16374c",
   "metadata": {},
   "source": [
    "How many times was it cold in Helsinki in April 2023?\n",
    "Ans: 15\n",
    "\n",
    "How many times was it comfortable?\n",
    "ans: 16\n",
    "\n",
    "Was it ever warm?\n",
    "ans: No"
   ]
  },
  {
   "cell_type": "markdown",
   "id": "e9467523-ed4f-4114-a6be-f98c7ee88449",
   "metadata": {},
   "source": []
  },
  {
   "cell_type": "markdown",
   "id": "59a682b9-7d3d-4b3d-a040-fc6b0407452f",
   "metadata": {},
   "source": [
    "2.6 Solution"
   ]
  },
  {
   "cell_type": "code",
   "execution_count": 15,
   "id": "122cbdab-6132-466b-9089-db473bea2c94",
   "metadata": {},
   "outputs": [],
   "source": [
    "def conversion_to_celsius(fahrenheit):\n",
    "    celsius=(fahrenheit-32)*5/9\n",
    "    return celcius"
   ]
  },
  {
   "cell_type": "code",
   "execution_count": 18,
   "id": "d9da3723-e36d-4cce-af83-40c672af8a4e",
   "metadata": {},
   "outputs": [
    {
     "name": "stdout",
     "output_type": "stream",
     "text": [
      "-17=-27.22222222222222 in celsius\n"
     ]
    }
   ],
   "source": [
    "fahrenheit = [32,68,91,-17]\n",
    "\n",
    "for fahrenheit in fahrenheit:\n",
    "    celsius = conversion_to_celsius(fahrenheit)\n",
    "        \n",
    "print(f\"{fahrenheit}={celsius} in celsius\")"
   ]
  },
  {
   "cell_type": "code",
   "execution_count": null,
   "id": "f9117ad0-a1d5-4e3b-a4db-70f148d5dc27",
   "metadata": {},
   "outputs": [],
   "source": []
  },
  {
   "cell_type": "markdown",
   "id": "a0f99637-795b-4d40-b59a-3f40c3c04d91",
   "metadata": {},
   "source": [
    "2.7 Solution"
   ]
  },
  {
   "cell_type": "code",
   "execution_count": 1,
   "id": "1526fd74-faa0-4639-ada1-1457948c79de",
   "metadata": {},
   "outputs": [],
   "source": [
    "def classification(temp):\n",
    "    if temp < -2:\n",
    "        return 0\n",
    "    elif temp >= -2 and temp < 2:\n",
    "        return 1\n",
    "    elif temp >= 2 and temp < 15:\n",
    "        return 2\n",
    "    else:\n",
    "        return 3\n",
    "    \n",
    "temperatures = []\n",
    "\n",
    "for temp in temperatures:\n",
    "    category = classification(temp)\n",
    "    if category == 0:\n",
    "        print(temp, \"is cold\")\n",
    "    elif category == 1:\n",
    "        print(temp, \" is slippery\")\n",
    "    elif category == 2:\n",
    "        print(temp, \"comfortable\")\n",
    "    else:\n",
    "        print(temp, \"warm\")\n",
    "        "
   ]
  }
 ],
 "metadata": {
  "kernelspec": {
   "display_name": "Python 3 (ipykernel)",
   "language": "python",
   "name": "python3"
  },
  "language_info": {
   "codemirror_mode": {
    "name": "ipython",
    "version": 3
   },
   "file_extension": ".py",
   "mimetype": "text/x-python",
   "name": "python",
   "nbconvert_exporter": "python",
   "pygments_lexer": "ipython3",
   "version": "3.9.15"
  }
 },
 "nbformat": 4,
 "nbformat_minor": 5
}
