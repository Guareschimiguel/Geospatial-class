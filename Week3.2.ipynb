{
 "cells": [
  {
   "cell_type": "markdown",
   "id": "1c07ddb8-5bdb-4006-93eb-e9d7a44602be",
   "metadata": {},
   "source": [
    "HW 3 Solutions\n",
    "\n",
    "3.1 solution"
   ]
  },
  {
   "cell_type": "code",
   "execution_count": 6,
   "id": "9197b613-70f8-4c8b-b9cb-671c400d1762",
   "metadata": {},
   "outputs": [],
   "source": [
    "import pandas as pd"
   ]
  },
  {
   "cell_type": "code",
   "execution_count": 7,
   "id": "3c2b113f-2170-4b8a-bd91-754ae2b9aee5",
   "metadata": {},
   "outputs": [
    {
     "name": "stdout",
     "output_type": "stream",
     "text": [
      "    USAF   WBAN  YR--MODAHRMN  DIR SPD  GUS  CLG  SKC  L  M  ...     SLP  \\\n",
      "0  28450  99999  201705010000  174  10   14  ***  ***  *  *  ...  1009.2   \n",
      "1  28450  99999  201705010020  180  10  ***    4  ***  *  *  ...  ******   \n",
      "2  28450  99999  201705010050  190  10  ***    4  ***  *  *  ...  ******   \n",
      "3  28450  99999  201705010100  188  12   16  ***  ***  *  *  ...  1009.1   \n",
      "4  28450  99999  201705010120  200  13  ***    2  OBS  *  *  ...  ******   \n",
      "\n",
      "     ALT     STP  MAX  MIN  PCP01  PCP06  PCP24  PCPXX  SD  \n",
      "0  *****   984.1  ***  ***  *****  *****  *****  *****  35  \n",
      "1  29.74  ******  ***  ***  *****  *****  *****  *****  **  \n",
      "2  29.74  ******  ***  ***  *****  *****  *****  *****  **  \n",
      "3  *****   984.0  ***  ***  *****  *****  *****  *****  35  \n",
      "4  29.74  ******  ***  ***  *****  *****  *****  *****  **  \n",
      "\n",
      "[5 rows x 33 columns]\n"
     ]
    }
   ],
   "source": [
    "#problem1\n",
    "import pandas as pd\n",
    "data=pd.read_csv(\"data/6153237444115dat.csv\")\n",
    "print(data.head())"
   ]
  },
  {
   "cell_type": "code",
   "execution_count": 8,
   "id": "20caba99-dda1-4cb0-8cbf-b964dc3fdd16",
   "metadata": {},
   "outputs": [
    {
     "name": "stdout",
     "output_type": "stream",
     "text": [
      "Rows: 11694\n",
      "Column: Index(['USAF', 'WBAN', 'YR--MODAHRMN', 'DIR', 'SPD', 'GUS', 'CLG', 'SKC', 'L',\n",
      "       'M', 'H', 'VSB', 'MW', 'MW.1', 'MW.2', 'MW.3', 'AW', 'AW.1', 'AW.2',\n",
      "       'AW.3', 'W', 'TEMP', 'DEWP', 'SLP', 'ALT', 'STP', 'MAX', 'MIN', 'PCP01',\n",
      "       'PCP06', 'PCP24', 'PCPXX', 'SD'],\n",
      "      dtype='object')\n",
      "USAF             int64\n",
      "WBAN             int64\n",
      "YR--MODAHRMN     int64\n",
      "DIR             object\n",
      "SPD             object\n",
      "GUS             object\n",
      "CLG             object\n",
      "SKC             object\n",
      "L               object\n",
      "M               object\n",
      "H               object\n",
      "VSB             object\n",
      "MW              object\n",
      "MW.1            object\n",
      "MW.2            object\n",
      "MW.3            object\n",
      "AW              object\n",
      "AW.1            object\n",
      "AW.2            object\n",
      "AW.3            object\n",
      "W               object\n",
      "TEMP            object\n",
      "DEWP            object\n",
      "SLP             object\n",
      "ALT             object\n",
      "STP             object\n",
      "MAX             object\n",
      "MIN             object\n",
      "PCP01           object\n",
      "PCP06           object\n",
      "PCP24           object\n",
      "PCPXX           object\n",
      "SD              object\n",
      "dtype: object\n"
     ]
    }
   ],
   "source": [
    "#problem2\n",
    "\n",
    "print(\"Rows:\", data.shape[0])\n",
    "print(\"Column:\", data.columns)\n",
    "print(data.dtypes)"
   ]
  },
  {
   "cell_type": "code",
   "execution_count": 15,
   "id": "4e682f24-fdf0-4afa-936d-91cfd126e984",
   "metadata": {},
   "outputs": [
    {
     "name": "stdout",
     "output_type": "stream",
     "text": [
      "Mean: 52.24796852279531\n",
      "Standard deviation: 10.307989094641968\n",
      "Stations: 2\n"
     ]
    }
   ],
   "source": [
    "#problem3\n",
    "\n",
    "data['MAX'] = pd.to_numeric(data['MAX'], errors='coerce')\n",
    "data['TEMP'] = pd.to_numeric(data['TEMP'], errors='coerce')\n",
    "data['USAF'] = pd.to_numeric(data['USAF'], errors='coerce')\n",
    "\n",
    "print(\"Mean:\",data['TEMP'].mean())\n",
    "print(\"Standard deviation:\", data['MAX'].std())\n",
    "print(\"Stations:\", data['USAF'].nunique())\n"
   ]
  },
  {
   "cell_type": "markdown",
   "id": "cfdea033-60e4-4b79-a78e-c56f5b18dae9",
   "metadata": {},
   "source": []
  },
  {
   "cell_type": "markdown",
   "id": "8cb4386a-8849-48a2-9c61-abe7d33203c1",
   "metadata": {},
   "source": [
    "3.2 Solution"
   ]
  },
  {
   "cell_type": "code",
   "execution_count": 22,
   "id": "579fe76b-9308-40c4-b68b-490347c3edfd",
   "metadata": {},
   "outputs": [
    {
     "name": "stdout",
     "output_type": "stream",
     "text": [
      "        USAF  YR--MODAHRMN TEMP  MAX  MIN\n",
      "0      28450  201705010000   31  ***  ***\n",
      "1      28450  201705010020   30  ***  ***\n",
      "2      28450  201705010050   30  ***  ***\n",
      "3      28450  201705010100   31  ***  ***\n",
      "4      28450  201705010120   30  ***  ***\n",
      "...      ...           ...  ...  ...  ...\n",
      "11689  29980  201708311900   64  ***  ***\n",
      "11690  29980  201708312000   64  ***  ***\n",
      "11691  29980  201708312100   64  ***  ***\n",
      "11692  29980  201708312200   64  ***  ***\n",
      "11693  29980  201708312300   64  ***  ***\n",
      "\n",
      "[11694 rows x 5 columns]\n"
     ]
    }
   ],
   "source": [
    "data=pd.read_csv(\"data/6153237444115dat.csv\")\n",
    "\n",
    "#problem 1\n",
    "\n",
    "selected = data[[\"USAF\", \"YR--MODAHRMN\", \"TEMP\", \"MAX\", \"MIN\"]]\n",
    "selected = selected.dropna(subset=[\"TEMP\"])\n",
    "\n",
    "print(selected)"
   ]
  },
  {
   "cell_type": "code",
   "execution_count": 28,
   "id": "c94dd421-451c-42a0-9e0b-7cc5c6194c92",
   "metadata": {},
   "outputs": [
    {
     "name": "stdout",
     "output_type": "stream",
     "text": [
      "        USAF  YR--MODAHRMN  TEMP  MAX  MIN  Celsius\n",
      "0      28450  201705010000    -1  ***  ***       -1\n",
      "1      28450  201705010020    -1  ***  ***       -1\n",
      "2      28450  201705010050    -1  ***  ***       -1\n",
      "3      28450  201705010100    -1  ***  ***       -1\n",
      "4      28450  201705010120    -1  ***  ***       -1\n",
      "...      ...           ...   ...  ...  ...      ...\n",
      "11689  29980  201708311900    18  ***  ***       18\n",
      "11690  29980  201708312000    18  ***  ***       18\n",
      "11691  29980  201708312100    18  ***  ***       18\n",
      "11692  29980  201708312200    18  ***  ***       18\n",
      "11693  29980  201708312300    18  ***  ***       18\n",
      "\n",
      "[11691 rows x 6 columns]\n"
     ]
    }
   ],
   "source": [
    "#problem 2\n",
    "\n",
    "selected['TEMP'] = pd.to_numeric(selected['TEMP'], errors='coerce')\n",
    "selected=selected.dropna(subset=['TEMP'])\n",
    "\n",
    "selected['TEMP']=(selected['TEMP'] - 32)/1.8\n",
    "selected['TEMP']=selected['Celsius'].round(0)\n",
    "selected['TEMP']=selected['Celsius'].astype(int)\n",
    "\n",
    "print(selected)"
   ]
  },
  {
   "cell_type": "code",
   "execution_count": null,
   "id": "bde81015-3262-43ee-915d-3f3dc06c5030",
   "metadata": {},
   "outputs": [],
   "source": [
    "selected = selected.drop(columns=['Celsius'])\n",
    "print(selected)"
   ]
  },
  {
   "cell_type": "code",
   "execution_count": 37,
   "id": "0f08866f-605b-4074-8fff-2583bfa58dd1",
   "metadata": {},
   "outputs": [],
   "source": [
    "#problem 3\n",
    "\n",
    "kumpula=selected[selected['USAF']==29980]\n",
    "rovaniemi=selected[selected['USAF']==28450]\n",
    "\n",
    "kumpula.to_csv(\"Kumpula_temps_May_Aug_2017.csv\", index=False, float_format='%.2f', sep=',')\n",
    "rovaniemi.to_csv(\"Rovaniemi_temps_May_Aug_2017.csv\", index=False, float_format='%.2f', sep=',')"
   ]
  },
  {
   "cell_type": "code",
   "execution_count": null,
   "id": "daf2b640-20f5-45de-a65d-053ee1c591b9",
   "metadata": {},
   "outputs": [],
   "source": []
  },
  {
   "cell_type": "markdown",
   "id": "7ee5c4fe-3f46-473d-bfda-23267cb039ce",
   "metadata": {},
   "source": [
    "3.3 Solution"
   ]
  },
  {
   "cell_type": "code",
   "execution_count": 39,
   "id": "b8da63cc-9b38-4e12-8d13-72e0f0573920",
   "metadata": {},
   "outputs": [
    {
     "name": "stdout",
     "output_type": "stream",
     "text": [
      "Median Kumpula: 14.0\n",
      "Median Rovaniemi: 11.0\n"
     ]
    }
   ],
   "source": [
    "#problem1\n",
    "\n",
    "kumpula = pd.read_csv(\"Kumpula_temps_May_Aug_2017.csv\")\n",
    "rovaniemi = pd.read_csv(\"Rovaniemi_temps_May_Aug_2017.csv\")\n",
    "\n",
    "kumpula_median=kumpula[\"TEMP\"].median()\n",
    "rovaniemi_median=rovaniemi[\"TEMP\"].median()\n",
    "\n",
    "print(\"Median Kumpula:\", kumpula_median)\n",
    "print(\"Median Rovaniemi:\", rovaniemi_median)"
   ]
  },
  {
   "cell_type": "code",
   "execution_count": 46,
   "id": "5a9ba6b1-0141-41ea-8360-7d929d74945e",
   "metadata": {},
   "outputs": [],
   "source": [
    "#problem2\n",
    "\n",
    "kumpula['YR--MODAHRMN'] = kumpula['YR--MODAHRMN'].astype(str)\n",
    "rovaniemi['YR--MODAHRMN'] = rovaniemi['YR--MODAHRMN'].astype(str)\n",
    "\n",
    "kumpula_may = kumpula[kumpula['YR--MODAHRMN'].str.contains('201705')]\n",
    "rovaniemi_may=rovaniemi[rovaniemi['YR--MODAHRMN'].str.contains('201705')]\n",
    "\n",
    "kumpula_june=kumpula[kumpula['YR--MODAHRMN'].str.contains('201706')]\n",
    "rovaniemi_june=rovaniemi[rovaniemi['YR--MODAHRMN'].str.contains('201706')]"
   ]
  },
  {
   "cell_type": "code",
   "execution_count": 47,
   "id": "1e19df84-22ac-48a1-ac2d-df770324ccd1",
   "metadata": {},
   "outputs": [
    {
     "name": "stdout",
     "output_type": "stream",
     "text": [
      "Temperature statistics for Kumpula in 05/2017:\n",
      "Mean: 9.76\n",
      "Minimum: -2.00\n",
      "Maximum: 23.00\n",
      "\n",
      "Temperature statistics for Rovaniemi in 05/2017:\n",
      "Mean: 2.99\n",
      "Minimum: -7.00\n",
      "Maximum: 15.00\n",
      "\n",
      "Temperature statistics for Kumpula in 06/2017:\n",
      "Mean: 13.73\n",
      "Minimum: 3.00\n",
      "Maximum: 24.00\n",
      "\n",
      "Temperature statistics for Rovaniemi in 06/2017:\n",
      "Mean: 11.02\n",
      "Minimum: -1.00\n",
      "Maximum: 23.00\n",
      "\n"
     ]
    }
   ],
   "source": [
    "for place, df in [(\"Kumpula\", kumpula_may), (\"Rovaniemi\", rovaniemi_may), \n",
    "                  (\"Kumpula\", kumpula_june), (\"Rovaniemi\", rovaniemi_june)]:\n",
    "    mean = df['TEMP'].mean()\n",
    "    minimum = df['TEMP'].min()\n",
    "    maximum = df['TEMP'].max()\n",
    "    \n",
    "    print(f\"Temperature statistics for {place} in {df['YR--MODAHRMN'].iloc[0][4:6]}/{df['YR--MODAHRMN'].iloc[0][0:4]}:\")\n",
    "    print(f\"Mean: {mean:.2f}\")\n",
    "    print(f\"Minimum: {minimum:.2f}\")\n",
    "    print(f\"Maximum: {maximum:.2f}\\n\")"
   ]
  },
  {
   "cell_type": "code",
   "execution_count": null,
   "id": "08ee8137-8eb0-4f8e-9c59-16bbd3a0f4f3",
   "metadata": {},
   "outputs": [],
   "source": [
    "The temperature difference appears to be small, but it looks like temperature in Rovaniemi reach colder minimums, so it could be a colder place. "
   ]
  },
  {
   "cell_type": "code",
   "execution_count": null,
   "id": "f2da8fed-d9cc-4797-af0b-8f93445658d3",
   "metadata": {},
   "outputs": [],
   "source": []
  },
  {
   "cell_type": "code",
   "execution_count": 54,
   "id": "093ac006-bb7e-42ab-8f22-bb897658b037",
   "metadata": {},
   "outputs": [
    {
     "name": "stderr",
     "output_type": "stream",
     "text": [
      "/tmp/ipykernel_89897/549037955.py:3: SettingWithCopyWarning: \n",
      "A value is trying to be set on a copy of a slice from a DataFrame.\n",
      "Try using .loc[row_indexer,col_indexer] = value instead\n",
      "\n",
      "See the caveats in the documentation: https://pandas.pydata.org/pandas-docs/stable/user_guide/indexing.html#returning-a-view-versus-a-copy\n",
      "  df[\"YR--MODAHRMN\"] = pd.to_datetime(df[\"YR--MODAHRMN\"], format=\"%Y%m%d%H%M\")\n",
      "/tmp/ipykernel_89897/549037955.py:4: SettingWithCopyWarning: \n",
      "A value is trying to be set on a copy of a slice from a DataFrame.\n",
      "Try using .loc[row_indexer,col_indexer] = value instead\n",
      "\n",
      "See the caveats in the documentation: https://pandas.pydata.org/pandas-docs/stable/user_guide/indexing.html#returning-a-view-versus-a-copy\n",
      "  df[\"date\"] = df[\"YR--MODAHRMN\"].dt.date\n"
     ]
    }
   ],
   "source": [
    "#problem3\n",
    "\n",
    "df[\"YR--MODAHRMN\"] = pd.to_datetime(df[\"YR--MODAHRMN\"], format=\"%Y%m%d%H%M\")\n",
    "df[\"date\"] = df[\"YR--MODAHRMN\"].dt.date\n",
    "grouped_df = df.groupby(\"date\").agg({\"TEMP\": [\"mean\", \"min\", \"max\"]})\n",
    "grouped_df.reset_index(inplace=True)"
   ]
  },
  {
   "cell_type": "code",
   "execution_count": null,
   "id": "cfea8390-01c3-4f6f-b80e-b9b7735235a9",
   "metadata": {},
   "outputs": [],
   "source": []
  }
 ],
 "metadata": {
  "kernelspec": {
   "display_name": "Python 3 (ipykernel)",
   "language": "python",
   "name": "python3"
  },
  "language_info": {
   "codemirror_mode": {
    "name": "ipython",
    "version": 3
   },
   "file_extension": ".py",
   "mimetype": "text/x-python",
   "name": "python",
   "nbconvert_exporter": "python",
   "pygments_lexer": "ipython3",
   "version": "3.9.15"
  }
 },
 "nbformat": 4,
 "nbformat_minor": 5
}
