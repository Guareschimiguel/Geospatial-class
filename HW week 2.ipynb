{
 "cells": [
  {
   "cell_type": "markdown",
   "id": "1f7b0280-deb1-45d9-9c04-f06c4f3024f1",
   "metadata": {},
   "source": [
    "Problem 2.1 Solution"
   ]
  },
  {
   "cell_type": "code",
   "execution_count": 6,
   "id": "66fba092-7edf-4ca9-9c29-ea582f039b1b",
   "metadata": {},
   "outputs": [
    {
     "name": "stdout",
     "output_type": "stream",
     "text": [
      "7.5\n"
     ]
    }
   ],
   "source": [
    "ice_cream_rating = 6\n",
    "sleeping_rating = 9\n",
    "first_name = 'Miguel'\n",
    "happiness= (ice_cream_rating + sleeping_rating)/2\n",
    "\n",
    "print(happiness)"
   ]
  },
  {
   "cell_type": "code",
   "execution_count": 2,
   "id": "f1a80c3e-d448-4195-8689-4e5211f94402",
   "metadata": {},
   "outputs": [
    {
     "data": {
      "text/plain": [
       "int"
      ]
     },
     "execution_count": 2,
     "metadata": {},
     "output_type": "execute_result"
    }
   ],
   "source": [
    "type(ice_cream_rating)"
   ]
  },
  {
   "cell_type": "code",
   "execution_count": 3,
   "id": "9768bf02-a13c-499b-94f9-acca673b6953",
   "metadata": {},
   "outputs": [
    {
     "data": {
      "text/plain": [
       "int"
      ]
     },
     "execution_count": 3,
     "metadata": {},
     "output_type": "execute_result"
    }
   ],
   "source": [
    "type(sleeping_rating)"
   ]
  },
  {
   "cell_type": "code",
   "execution_count": 4,
   "id": "535d445e-fc92-4bf6-a95e-0fdb9321a18b",
   "metadata": {},
   "outputs": [
    {
     "data": {
      "text/plain": [
       "str"
      ]
     },
     "execution_count": 4,
     "metadata": {},
     "output_type": "execute_result"
    }
   ],
   "source": [
    "type(first_name)"
   ]
  },
  {
   "cell_type": "code",
   "execution_count": 9,
   "id": "54d0613f-b127-4a56-9470-29c15fe3e5b5",
   "metadata": {},
   "outputs": [
    {
     "data": {
      "text/plain": [
       "float"
      ]
     },
     "execution_count": 9,
     "metadata": {},
     "output_type": "execute_result"
    }
   ],
   "source": [
    "type(happiness)\n",
    "\n",
    "# surprised this resulted in a float"
   ]
  },
  {
   "cell_type": "code",
   "execution_count": 19,
   "id": "b6fa41d4-7b07-4901-b843-fe564d941901",
   "metadata": {},
   "outputs": [
    {
     "name": "stdout",
     "output_type": "stream",
     "text": [
      "My name is Miguel and I give eating ice cream a score of 6 out of 10!\n",
      "My sleeping enjoyment rating is 9 /10!\n",
      "Based on the factors above, my happiness rating is 7.5 out of 10 or 75.0%!\n"
     ]
    }
   ],
   "source": [
    "print('My name is',first_name,'and I give eating ice cream a score of', ice_cream_rating, 'out of 10!')\n",
    "print('My sleeping enjoyment rating is', sleeping_rating,'/10!')\n",
    "print('Based on the factors above, my happiness rating is', happiness, 'out of 10 or 75.0%!')"
   ]
  },
  {
   "cell_type": "markdown",
   "id": "e162a92e-4b33-462e-80a4-f483f0f35fa2",
   "metadata": {},
   "source": [
    "Problem 2.2 solution"
   ]
  },
  {
   "cell_type": "code",
   "execution_count": 102,
   "id": "3507d1f9-d04f-4cce-b115-50201f01d8fb",
   "metadata": {},
   "outputs": [
    {
     "name": "stdout",
     "output_type": "stream",
     "text": [
      "['lighthouse', 'harmaja', 'suomenlinna_aaltopoiju', 'kumpula', 'kaisaniemi']\n",
      "[2003, 1989, 2016, 2005, 1844]\n"
     ]
    }
   ],
   "source": [
    "fmi_station_names = [\"lighthouse\", \"harmaja\", \"suomenlinna_aaltopoiju\", \"kumpula\", \"kaisaniemi\"]\n",
    "\n",
    "first_year_operations = [2003, 1989, 2016, 2005, 1844]\n",
    "\n",
    "print(fmi_station_names)\n",
    "print(first_year_operations)"
   ]
  },
  {
   "cell_type": "code",
   "execution_count": 103,
   "id": "6beec12f-17a8-4dcd-b852-84c09e60b632",
   "metadata": {},
   "outputs": [
    {
     "name": "stdout",
     "output_type": "stream",
     "text": [
      "['lighthouse', 'harmaja', 'suomenlinna_aaltopoiju', 'kumpula', 'kaisaniemi', 'malmi airfield', 'vuosaari harbour', 'kaivopuisto']\n",
      "[2003, 1989, 2016, 2005, 1844, 1937, 2012, 1904]\n"
     ]
    }
   ],
   "source": [
    "fmi_station_names.append('malmi airfield')\n",
    "fmi_station_names.append('vuosaari harbour')\n",
    "fmi_station_names.append('kaivopuisto')\n",
    "print(fmi_station_names)\n",
    "\n",
    "first_year_operations.append(1937)\n",
    "first_year_operations.append(2012)\n",
    "first_year_operations.append(1904)\n",
    "print(first_year_operations)"
   ]
  },
  {
   "cell_type": "code",
   "execution_count": 107,
   "id": "b5ad2372-1db9-4cce-8865-1a1e570a6b1a",
   "metadata": {},
   "outputs": [
    {
     "name": "stdout",
     "output_type": "stream",
     "text": [
      "['harmaja', 'kaisaniemi', 'kaivopuisto', 'kumpula', 'lighthouse', 'malmi airfield', 'suomenlinna_aaltopoiju', 'vuosaari harbour']\n",
      "[2016, 2012, 2005, 2003, 1989, 1937, 1904, 1844]\n"
     ]
    }
   ],
   "source": [
    "fmi_station_names.sort()\n",
    "first_year_operations.sort()\n",
    "first_year_operations.reverse()\n",
    "print(fmi_station_names)\n",
    "print(first_year_operations)"
   ]
  },
  {
   "cell_type": "code",
   "execution_count": null,
   "id": "28c9b8ca-7d36-4754-9eaa-bc215cdaa845",
   "metadata": {},
   "outputs": [],
   "source": []
  },
  {
   "cell_type": "code",
   "execution_count": null,
   "id": "9d2bc42b-c1b0-4ae7-be30-9b03f68f3062",
   "metadata": {},
   "outputs": [],
   "source": []
  },
  {
   "cell_type": "markdown",
   "id": "29ef0983-7dc4-4f31-99f6-54244e932d64",
   "metadata": {},
   "source": [
    "Problem 2.3 solution"
   ]
  },
  {
   "cell_type": "code",
   "execution_count": 112,
   "id": "9c9236ca-5ea5-4148-801d-07e4d87aa8ee",
   "metadata": {},
   "outputs": [
    {
     "name": "stdout",
     "output_type": "stream",
     "text": [
      "the average temperature in Helsinki in March is -1.0\n"
     ]
    }
   ],
   "source": [
    "months = ['January','February','March','April','May','June', 'July','August','September','October','November','December']\n",
    "\n",
    "temps=[-3.5,-4.5,-1.0,4.0,10.0,15.0,18.0,16.0,11.5,6.0,2.0,-1.5]\n",
    "\n",
    "month=months[2]\n",
    "\n",
    "temp=temps[2]\n",
    "\n",
    "info_text = f\"the average temperature in Helsinki in {month} is {temp}\"\n",
    "\n",
    "print(info_text)\n",
    "\n"
   ]
  },
  {
   "cell_type": "code",
   "execution_count": null,
   "id": "fb2aff06-7299-4222-a926-13d20cb65645",
   "metadata": {},
   "outputs": [],
   "source": []
  },
  {
   "cell_type": "markdown",
   "id": "e207a324-d7aa-4f55-ac6e-99cbeb433ce6",
   "metadata": {},
   "source": [
    "Problem 2.4 solution"
   ]
  },
  {
   "cell_type": "code",
   "execution_count": 141,
   "id": "8ef10138-6c5b-45bd-beef-122d258242e2",
   "metadata": {},
   "outputs": [
    {
     "name": "stdout",
     "output_type": "stream",
     "text": [
      "['Station_0.txt', 'Station_1.txt', 'Station_2.txt', 'Station_3.txt', 'Station_4.txt', 'Station_5.txt', 'Station_6.txt', 'Station_7.txt', 'Station_8.txt', 'Station_9.txt', 'Station_10.txt', 'Station_11.txt', 'Station_12.txt', 'Station_13.txt', 'Station_14.txt', 'Station_15.txt', 'Station_16.txt', 'Station_17.txt', 'Station_18.txt', 'Station_19.txt', 'Station_20.txt', 'Station_21.txt']\n"
     ]
    }
   ],
   "source": [
    "filenames=[]\n",
    "for i in range(0,22,1):\n",
    "    filename=f\"Station_{i}.txt\"\n",
    "    filenames.append(filename)\n",
    "print(filenames)\n",
    "    \n",
    "\n",
    "    "
   ]
  }
 ],
 "metadata": {
  "kernelspec": {
   "display_name": "Python 3 (ipykernel)",
   "language": "python",
   "name": "python3"
  },
  "language_info": {
   "codemirror_mode": {
    "name": "ipython",
    "version": 3
   },
   "file_extension": ".py",
   "mimetype": "text/x-python",
   "name": "python",
   "nbconvert_exporter": "python",
   "pygments_lexer": "ipython3",
   "version": "3.9.15"
  }
 },
 "nbformat": 4,
 "nbformat_minor": 5
}
